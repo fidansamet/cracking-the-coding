{
 "cells": [
  {
   "cell_type": "markdown",
   "metadata": {},
   "source": [
    "Given a binary search tree, design an algorithm which creates a linked list of all the nodes at each depth (eg, if you have a tree with depth D, you’ll have D linked lists)."
   ]
  },
  {
   "cell_type": "code",
   "execution_count": null,
   "metadata": {},
   "outputs": [],
   "source": [
    "ArrayList<LinkedList<TreeNode>> findLevelLinkList(TreeNode root) {\n",
    "    int level = 0;\n",
    "    ArrayList<LinkedList<TreeNode>> result = new ArrayList<LinkedList<TreeNode>>(); \n",
    "    LinkedList<TreeNode> list = new LinkedList<TreeNode>();\n",
    "    list.add(root); \n",
    "    result.add(level, list);\n",
    "    while (true) {\n",
    "        list = new LinkedList<TreeNode>();\n",
    "        for (int i = 0; i < result.get(level).size(); i++) {\n",
    "            TreeNode n = (TreeNode) result.get(level).get(i);\n",
    "            if (n != null) {\n",
    "                if(n.left != null) \n",
    "                    list.add(n.left); \n",
    "                if(n.right!= null)\n",
    "                    list.add(n.right);\n",
    "            }\n",
    "        } \n",
    "        if (list.size() > 0) {\n",
    "            result.add(level + 1, list); \n",
    "        } else {\n",
    "            break;\n",
    "        } \n",
    "        level++; \n",
    "    }\n",
    "    return result;\n",
    "}"
   ]
  },
  {
   "cell_type": "markdown",
   "metadata": {},
   "source": [
    "We can do a simple level by level traversal of the tree, with a slight modification of the breath- first traversal of the tree.\n",
    "\n",
    "In a usual breath first search traversal, we simply traverse the nodes without caring which level we are on. In this case, it is critical to know the level. We thus use a dummy node to indicate when we have finished one level and are starting on the next."
   ]
  }
 ],
 "metadata": {
  "kernelspec": {
   "display_name": "Java",
   "language": "java",
   "name": "java"
  },
  "language_info": {
   "codemirror_mode": "java",
   "file_extension": ".java",
   "mimetype": "text/x-java-source",
   "name": "Java",
   "pygments_lexer": "java",
   "version": "11.0.2+9-LTS"
  }
 },
 "nbformat": 4,
 "nbformat_minor": 2
}
