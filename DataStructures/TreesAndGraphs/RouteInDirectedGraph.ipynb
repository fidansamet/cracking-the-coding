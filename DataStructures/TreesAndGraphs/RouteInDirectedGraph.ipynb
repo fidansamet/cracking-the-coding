{
 "cells": [
  {
   "cell_type": "markdown",
   "metadata": {},
   "source": [
    "Given a directed graph, design an algorithm to find out whether there is a route between two nodes."
   ]
  },
  {
   "cell_type": "code",
   "execution_count": null,
   "metadata": {},
   "outputs": [],
   "source": [
    "public enum State {\n",
    "    Unvisited, Visited, Visiting;\n",
    "}\n",
    "\n",
    "public static boolean search(Graph g, Node start, Node end) {\n",
    "    LinkedList<Node> q = new LinkedList<Node>(); // operates as Stack\n",
    "    for (Node u : g.getNodes()) {\n",
    "        u.state = State.Unvisited;\n",
    "    }\n",
    "    start.state = State.Visiting;\n",
    "    q.add(start);\n",
    "    Node u;\n",
    "    while(!q.isEmpty()) {\n",
    "        u = q.removeFirst(); // i.e., pop()\n",
    "        if (u != null) {\n",
    "            for (Node v : u.getAdjacent()) {\n",
    "                if (v.state == State.Unvisited) {\n",
    "                    if (v == end) {\n",
    "                        return true;\n",
    "                    } else { \n",
    "                        v.state = State.Visiting;\n",
    "                        q.add(v);\n",
    "                    }\n",
    "                }\n",
    "            }\n",
    "            u.state = State.Visited;\n",
    "        }\n",
    "    }\n",
    "    return false;\n",
    "}"
   ]
  },
  {
   "cell_type": "markdown",
   "metadata": {},
   "source": [
    "This problem can be solved by just simple graph traversal, such as depth first search or breadth first search. We start with one of the two nodes and, during traversal, check if the other node is found. We should mark any node found in the course of the algorithm as ‘already visited’ to avoid cycles and repetition of the nodes."
   ]
  }
 ],
 "metadata": {
  "kernelspec": {
   "display_name": "Java",
   "language": "java",
   "name": "java"
  },
  "language_info": {
   "codemirror_mode": "java",
   "file_extension": ".java",
   "mimetype": "text/x-java-source",
   "name": "Java",
   "pygments_lexer": "java",
   "version": "11.0.2+9-LTS"
  }
 },
 "nbformat": 4,
 "nbformat_minor": 2
}
