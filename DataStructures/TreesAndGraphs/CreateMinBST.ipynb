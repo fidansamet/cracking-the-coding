{
 "cells": [
  {
   "cell_type": "markdown",
   "metadata": {},
   "source": [
    "Given a sorted (increasing order) array, write an algorithm to create a binary tree with minimal height."
   ]
  },
  {
   "cell_type": "code",
   "execution_count": null,
   "metadata": {},
   "outputs": [],
   "source": [
    "public static TreeNode addToTree(int arr[], int start, int end){\n",
    "    if (end < start) {\n",
    "        return null;\n",
    "    }\n",
    "    int mid = (start + end) / 2;\n",
    "    TreeNode n = new TreeNode(arr[mid]);\n",
    "    n.left = addToTree(arr, start, mid - 1);\n",
    "    n.right = addToTree(arr, mid + 1, end);\n",
    "    return n;\n",
    "}\n",
    "\n",
    "public static TreeNode createMinimalBST(int array[]) {\n",
    "    return addToTree(array, 0, array.length - 1);\n",
    "}"
   ]
  },
  {
   "cell_type": "markdown",
   "metadata": {},
   "source": [
    "We will try to create a binary tree such that for each node, the number of nodes in the left subtree and the right subtree are equal, if possible. \n",
    "\n",
    "Algorithm:\n",
    "1. Insert into the tree the middle element of the array.\n",
    "2. Insert (into the left subtree) the left subarray elements\n",
    "3. Insert (into the right subtree) the right subarray elements\n",
    "4. Recurse"
   ]
  }
 ],
 "metadata": {
  "kernelspec": {
   "display_name": "Java",
   "language": "java",
   "name": "java"
  },
  "language_info": {
   "codemirror_mode": "java",
   "file_extension": ".java",
   "mimetype": "text/x-java-source",
   "name": "Java",
   "pygments_lexer": "java",
   "version": "11.0.2+9-LTS"
  }
 },
 "nbformat": 4,
 "nbformat_minor": 2
}
