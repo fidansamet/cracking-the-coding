{
 "cells": [
  {
   "cell_type": "markdown",
   "metadata": {},
   "source": [
    "Implement a function to check if a tree is balanced. For the purposes of this question, a balanced tree is defined to be a tree such that no two leaf nodes differ in distance from the root by more than one."
   ]
  },
  {
   "cell_type": "code",
   "execution_count": null,
   "metadata": {},
   "outputs": [],
   "source": [
    "public static int maxDepth(TreeNode root) {\n",
    "    if (root == null) {\n",
    "        return 0;\n",
    "    }\n",
    "    return 1 + Math.max(maxDepth(root.left), maxDepth(root.right));\n",
    "}\n",
    "\n",
    "public static int minDepth(TreeNode root) {\n",
    "    if (root == null) {\n",
    "        return 0;\n",
    "    }\n",
    "    return 1 + Math.min(minDepth(root.left), minDepth(root.right));\n",
    "}\n",
    "\n",
    "public static boolean isBalanced(TreeNode root) {\n",
    "    return (maxDepth(root) - minDepth(root) <= 1);\n",
    "}"
   ]
  },
  {
   "cell_type": "markdown",
   "metadata": {},
   "source": [
    "The idea is very simple: the difference of min depth and max depth should not exceed 1, since the difference of the min and the max depth is the maximum distance difference pos- sible in the tree."
   ]
  }
 ],
 "metadata": {
  "kernelspec": {
   "display_name": "Java",
   "language": "java",
   "name": "java"
  },
  "language_info": {
   "codemirror_mode": "java",
   "file_extension": ".java",
   "mimetype": "text/x-java-source",
   "name": "Java",
   "pygments_lexer": "java",
   "version": "11.0.2+9-LTS"
  }
 },
 "nbformat": 4,
 "nbformat_minor": 2
}
