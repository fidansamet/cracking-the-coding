{
 "cells": [
  {
   "cell_type": "markdown",
   "metadata": {},
   "source": [
    "Given a circular linked list, implement an algorithm which returns node at the beginning of the loop.\n",
    "Circular linked list: A (corrupt) linked list in which a node’s next pointer points to an earlier node, so as to make a loop in the linked list.\n",
    "\n",
    "Input: A -> B -> C -> D -> E -> C\n",
    "Output: C"
   ]
  },
  {
   "cell_type": "code",
   "execution_count": null,
   "metadata": {},
   "outputs": [],
   "source": [
    "LinkedListNode findBeginning (LinkedListNode head) {\n",
    "    LinkedListNode n1 = head;\n",
    "    LinkedListNode n2 = head;\n",
    "    \n",
    "    while (n2.next != null) {\n",
    "        n1 = n1.next;\n",
    "        n2 = n2.next.next;\n",
    "        if (n1 == n2) {\n",
    "            break;\n",
    "        }\n",
    "    }\n",
    "    \n",
    "    if (n2.next == null) {  // there is no meeting point - no loop\n",
    "        return null;\n",
    "    }\n",
    "    \n",
    "    n1 = head;\n",
    "    while (n1 != n2) {\n",
    "        n1 = n1.next;\n",
    "        n2 = n2.next;\n",
    "    }\n",
    "    \n",
    "    return n2;\n",
    "}"
   ]
  },
  {
   "cell_type": "markdown",
   "metadata": {},
   "source": [
    "If we move two pointers, one with speed 1 and another with speed 2, they will end up meeting if the linked list has a loop. Why? Think about two cars driving on a track—the faster car will always pass the slower one!\n",
    "\n",
    "The tricky part here is finding the start of the loop. Imagine, as an analogy, two people racing around a track, one running twice as fast as the other. If they start off at the same place, when will they next meet? They will next meet at the start of the next lap.\n",
    "\n",
    "Now, let’s suppose Fast Runner had a head start of k meters on an n step lap. When will they next meet? They will meet k meters before the start of the next lap. (Why? Fast Runner would have made k + 2(n - k) steps, including its head start, and Slow Runner would have made n - k steps. Both will be k steps before the start of the loop.)\n",
    "\n",
    "Now, going back to the problem, when Fast Runner (n2) and Slow Runner (n1) are moving around our circular linked list, n2 will have a head start on the loop when n1 enters. Specifically, it will have a head start of k, where k is the number of nodes before the loop. Since n2 has a head start of k nodes, n1 and n2 will meet k nodes before the start of the loop.\n",
    "\n",
    "So, we now know the following: \n",
    "1. Head is k nodes from LoopStart (by definition). \n",
    "2. MeetingPoint for n1 and n2 is k nodes from LoopStart (as shown above).\n",
    "Thus, if we move n1 back to Head and keep n2 at MeetingPoint, and move them both at the same pace, they will meet at LoopStart."
   ]
  }
 ],
 "metadata": {
  "kernelspec": {
   "display_name": "Java",
   "language": "java",
   "name": "java"
  },
  "language_info": {
   "codemirror_mode": "java",
   "file_extension": ".java",
   "mimetype": "text/x-java-source",
   "name": "Java",
   "pygments_lexer": "java",
   "version": "11.0.2+9-LTS"
  }
 },
 "nbformat": 4,
 "nbformat_minor": 2
}
