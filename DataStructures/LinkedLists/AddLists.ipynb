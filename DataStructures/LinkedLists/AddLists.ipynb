{
 "cells": [
  {
   "cell_type": "markdown",
   "metadata": {},
   "source": [
    "You have two numbers represented by a linked list, where each node contains a single digit. The digits are stored in reverse order, such that the 1’s digit is at the head of the list. Write a function that adds the two numbers and returns the sum as a linked list.\n",
    "\n",
    "Input: (3 -> 1 -> 5), (5 -> 9 -> 2) Output: 8 -> 0 -> 8"
   ]
  },
  {
   "cell_type": "code",
   "execution_count": null,
   "metadata": {},
   "outputs": [],
   "source": [
    "LinkedListNode addLists (LinkedListNode n1, LinkedListNode n2, int carry) {\n",
    "    if (n1 == null && n2 == null) {\n",
    "        return null;\n",
    "    }\n",
    "    LinkedListNode res = new LinkedListNode(carry, null, null);\n",
    "    int value = carry;\n",
    "    if (n1 != null) {\n",
    "        value += n1.data;\n",
    "    }\n",
    "    if (n2 != null) {\n",
    "        value += n2.data;\n",
    "    }\n",
    "    res.data = value % 10;\n",
    "    LinkedListNode more = addLists(n1 == null ? null : n1.next,\n",
    "                                    n2 == null ? null: n2.next,\n",
    "                                    value > 10 ? 1 : 0);\n",
    "    res.setNext(more);\n",
    "    return res;\n",
    "}"
   ]
  },
  {
   "cell_type": "markdown",
   "metadata": {},
   "source": [
    "We can implement this recursively by adding node by node, just as we would digit by digit.\n",
    "1. result.data = (node1 + node2 + any earlier carry) % 10\n",
    "2. If node1 + node2 > 10, then carry a 1 to the next addition.\n",
    "3. Add the tails of the two nodes, passing along the carry."
   ]
  }
 ],
 "metadata": {
  "kernelspec": {
   "display_name": "Java",
   "language": "java",
   "name": "java"
  },
  "language_info": {
   "codemirror_mode": "java",
   "file_extension": ".java",
   "mimetype": "text/x-java-source",
   "name": "Java",
   "pygments_lexer": "java",
   "version": "11.0.2+9-LTS"
  }
 },
 "nbformat": 4,
 "nbformat_minor": 2
}
