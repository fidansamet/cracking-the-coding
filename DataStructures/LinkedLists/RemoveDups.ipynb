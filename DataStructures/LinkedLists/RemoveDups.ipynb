{
 "cells": [
  {
   "cell_type": "markdown",
   "metadata": {},
   "source": [
    "Write code to remove duplicates from an unsorted linked list. How would you solve this problem if a temporary buffer is not allowed?"
   ]
  },
  {
   "cell_type": "code",
   "execution_count": null,
   "metadata": {},
   "outputs": [],
   "source": [
    "public static void deleteDuplicatesUnsorted (LinkedListNode head) {\n",
    "    if (head == null) {\n",
    "        return;\n",
    "    }\n",
    "    LinkedListNode prev = head;\n",
    "    LinkedListNode cur = head.next;\n",
    "    while (cur != null) {\n",
    "        LinkedListNode runner = head;\n",
    "        while (runner != cur) {\n",
    "            if (runner.data == cur.data) {\n",
    "                LinkedListNode temp = cur.next;\n",
    "                prev.next;\n",
    "                cur = temp;\n",
    "                break;\n",
    "            }\n",
    "            runner = runner.next;\n",
    "        }\n",
    "        if (runner == cur) {\n",
    "            prev = cur;\n",
    "            cur = cur.next;\n",
    "        }\n",
    "    }\n",
    "}"
   ]
  },
  {
   "cell_type": "markdown",
   "metadata": {},
   "source": [
    "Without a buffer, we can iterate with two pointers: “cur” does a normal iteration, while “runner” iterates through all prior nodes to check for dups. Runner will only see one dup per node, because if there were multiple duplicates they would have been removed already."
   ]
  },
  {
   "cell_type": "code",
   "execution_count": null,
   "metadata": {},
   "outputs": [],
   "source": [
    "public static void deleteDuplicatesUnsorted2 (LinkedListNode n) {\n",
    "    Hashtable htable = new Hashtable();\n",
    "    LinkedListNode prev = null;\n",
    "    while (n != null) {\n",
    "        if (htable.containsKey(n.data)) {\n",
    "            prev.next = n.next;\n",
    "        } else {\n",
    "            htable.put(n.data, true);\n",
    "            prev = n;\n",
    "        }\n",
    "        n = n.next;\n",
    "    }\n",
    "}"
   ]
  },
  {
   "cell_type": "markdown",
   "metadata": {},
   "source": [
    "If we can use a buffer, we can keep track of elements in a hashtable and remove any dups."
   ]
  }
 ],
 "metadata": {
  "kernelspec": {
   "display_name": "Java",
   "language": "java",
   "name": "java"
  },
  "language_info": {
   "codemirror_mode": "java",
   "file_extension": ".java",
   "mimetype": "text/x-java-source",
   "name": "Java",
   "pygments_lexer": "java",
   "version": "11.0.2+9-LTS"
  }
 },
 "nbformat": 4,
 "nbformat_minor": 2
}
