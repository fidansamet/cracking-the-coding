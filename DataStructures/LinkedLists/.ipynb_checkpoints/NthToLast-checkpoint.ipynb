{
 "cells": [
  {
   "cell_type": "markdown",
   "metadata": {},
   "source": [
    "Implement an algorithm to find the nth to last element of a singly linked list."
   ]
  },
  {
   "cell_type": "code",
   "execution_count": null,
   "metadata": {},
   "outputs": [],
   "source": [
    "LinkedListNode nthToLast () {\n",
    "    if (head == null || n < 1) {\n",
    "        return null;\n",
    "    }\n",
    "    LinkedListNode slowPtr = head;\n",
    "    LinkedListNode fastPtr = head;\n",
    "    for (int j = 0; j < n - 1; ++j) {\n",
    "        if (fastPtr == null) {\n",
    "            return null;\n",
    "        }\n",
    "        fastPtr = fastPtr.next;\n",
    "    }\n",
    "    while (fastPtr.next != null) {\n",
    "        slowPtr = slowPtr.next;\n",
    "        fastPtr = fastPtr.next;\n",
    "    }\n",
    "    return slowPtr;\n",
    "}"
   ]
  },
  {
   "cell_type": "markdown",
   "metadata": {},
   "source": [
    "1. Create two pointers, slowPtr and fastPtr, that point to the beginning of the node.\n",
    "2. Increment fastPtr by n-1 positions, to make it point to the nth node from the beginning (to make the distance of n between fastPtr and fastPtr).\n",
    "3. Check for fastPtr->next == null if yes return value of slowPtr, otherwise increment slowPtr and fastPtr. If next of fastPtr is null it means slowPtr points to the nth node from the last as the distance between the two is n.\n",
    "4. Repeat Step 3."
   ]
  }
 ],
 "metadata": {
  "kernelspec": {
   "display_name": "Java",
   "language": "java",
   "name": "java"
  },
  "language_info": {
   "codemirror_mode": "java",
   "file_extension": ".java",
   "mimetype": "text/x-java-source",
   "name": "Java",
   "pygments_lexer": "java",
   "version": "11.0.2+9-LTS"
  }
 },
 "nbformat": 4,
 "nbformat_minor": 2
}
