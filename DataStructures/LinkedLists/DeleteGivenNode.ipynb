{
 "cells": [
  {
   "cell_type": "markdown",
   "metadata": {},
   "source": [
    "Implement an algorithm to delete a node in the middle of a single linked list, given only access to that node.\n",
    "\n",
    "Input: the node ‘c’ from the linked list a->b->c->d->e \n",
    "Result: nothing is returned, but the new linked list looks like a->b->d->e"
   ]
  },
  {
   "cell_type": "code",
   "execution_count": null,
   "metadata": {},
   "outputs": [],
   "source": [
    "public static boolean deleteGivenNode (LinkedListNode) {\n",
    "    if (n == null || n.next == null) {\n",
    "        return false;\n",
    "    }\n",
    "    LinkedListNode next = n.next;\n",
    "    n.data = next.data;\n",
    "    n.next = next.next;\n",
    "    return true;\n",
    "}"
   ]
  },
  {
   "cell_type": "markdown",
   "metadata": {},
   "source": [
    "The solution to this is to simply copy the data from the next node into this node and then delete the next node.\n",
    "NOTE: This problem can not be solved if the node to be deleted is the last node in the inked list."
   ]
  }
 ],
 "metadata": {
  "kernelspec": {
   "display_name": "Java",
   "language": "java",
   "name": "java"
  },
  "language_info": {
   "codemirror_mode": "java",
   "file_extension": ".java",
   "mimetype": "text/x-java-source",
   "name": "Java",
   "pygments_lexer": "java",
   "version": "11.0.2+9-LTS"
  }
 },
 "nbformat": 4,
 "nbformat_minor": 2
}
