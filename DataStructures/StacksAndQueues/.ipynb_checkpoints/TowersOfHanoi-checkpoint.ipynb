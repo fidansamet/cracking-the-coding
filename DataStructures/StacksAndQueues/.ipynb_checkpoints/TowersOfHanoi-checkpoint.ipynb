{
 "cells": [
  {
   "cell_type": "markdown",
   "metadata": {},
   "source": [
    "In the classic problem of the Towers of Hanoi, you have 3 rods and N disks of different sizes which can slide onto any tower. The puzzle starts with disks sorted in ascending order of size from top to bottom (e.g., each disk sits on top of an even larger one). You have the following constraints: \n",
    "\n",
    "(A) Only one disk can be moved at a time. \n",
    "(B) A disk is slid off the top of one rod onto the next rod. \n",
    "(C) A disk can only be placed on top of a larger disk. \n",
    "\n",
    "Write a program to move the disks from the first rod to the last using Stacks."
   ]
  },
  {
   "cell_type": "code",
   "execution_count": null,
   "metadata": {},
   "outputs": [],
   "source": [
    "public static void main (String[] args) {\n",
    "    int n = 5;\n",
    "    Tower[] towers = new Tower[n];\n",
    "    for (int i = 0; i < 3; i++) {\n",
    "        towers[i] = new Tower(i);\n",
    "    }\n",
    "    for (int i = n-1; i >= 0; i--) {\n",
    "        towers[0].add(i);\n",
    "    }\n",
    "    towers[0].moveDisks(n, towers[2], towers[1]);\n",
    "}\n",
    "\n",
    "public class Tower {\n",
    "    private Stack<Integer> disks;\n",
    "    private int index;\n",
    "    public Tower(int i) {\n",
    "        disks = new Stack<Integer>();\n",
    "        index = i;\n",
    "    }\n",
    "    public int index() {\n",
    "        return index;\n",
    "    }\n",
    "    \n",
    "    public void add (int d) {\n",
    "        if (!disks.isEmpty() && disks.peek() <= d) {\n",
    "            System.out.println(“Error placing disk ” + d);\n",
    "        } else { \n",
    "            disks.push(d); \n",
    "        }\n",
    "    }\n",
    "    \n",
    "    public void moveTopTo(Tower t) {\n",
    "        int top = disks.pop(); \n",
    "        t.add(top);\n",
    "        System.out.println(“Move disk ” + top + “ from ” + index() + “ to ” + t.index()); \n",
    "    }\n",
    "    \n",
    "    public void print() {\n",
    "        System.out.println(“Contents of Tower “ + index());\n",
    "        for (int i = disks.size() - 1; i >= 0; i--) { \n",
    "            System.out.println(“ “ + disks.get(i)); \n",
    "        }\n",
    "    }\n",
    "    \n",
    "    public void moveDisks(int n, Tower destination, Tower buffer) {\n",
    "        if (n > 0) { \n",
    "            moveDisks(n - 1, buffer, destination); \n",
    "            moveTopTo(destination); \n",
    "            buffer.moveDisks(n - 1, destination, this);\n",
    "        }\n",
    "    }\n",
    "}"
   ]
  },
  {
   "cell_type": "markdown",
   "metadata": {},
   "source": [
    "We need to move N disks from Rod 1 to Rod 3, but let’s start from the beginning. Moving the top disk is easy - we just move it to Disk 3.\n",
    "\n",
    "Can we move the top two disks? Yes: \n",
    "\n",
    "1. Move Disk 1 from Rod 1 to Rod 2 \n",
    "2. Move Disk 2 from Rod 1 to Rod 3 \n",
    "3. Move Disk 1 from Rod 2 to Rod 3 \n",
    "\n",
    "Can we move the top three disks?\n",
    "\n",
    "1. We know we can move the top two disks around from one Rod to another (as shown earlier), so let’s assume we have moved Disk 1 and 2 to Rod 2. \n",
    "2. Move Disk 3 to Rod 3\n",
    "3. Again we know we can move the top two disks around, so let’s move them from Rod 2 to Rod 3. \n",
    "\n",
    "This approach leads to a natural recursive algorithm."
   ]
  }
 ],
 "metadata": {
  "kernelspec": {
   "display_name": "Java",
   "language": "java",
   "name": "java"
  },
  "language_info": {
   "codemirror_mode": "java",
   "file_extension": ".java",
   "mimetype": "text/x-java-source",
   "name": "Java",
   "pygments_lexer": "java",
   "version": "11.0.2+9-LTS"
  }
 },
 "nbformat": 4,
 "nbformat_minor": 2
}
