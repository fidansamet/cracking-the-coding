{
 "cells": [
  {
   "cell_type": "markdown",
   "metadata": {},
   "source": [
    "How would you design a stack which, in addition to push and pop, also has a function min which returns the minimum element? Push, pop and min should all operate in O(1) time."
   ]
  },
  {
   "cell_type": "code",
   "execution_count": null,
   "metadata": {},
   "outputs": [],
   "source": [
    "public class StackWithMin extends Stack<NodeWithMin> {\n",
    "    public void push (int value) {\n",
    "        int newMin = Math.min(value, min());\n",
    "        super.push(new NodeWithMin(value, newMin));\n",
    "    }\n",
    "    \n",
    "    public int min() {\n",
    "        if (this.isEmpty()) {\n",
    "            return Integer.MAX_VALUE;\n",
    "        } else {\n",
    "            return peek().min;\n",
    "        }\n",
    "    }\n",
    "}\n",
    "\n",
    "class NodeWithMin {\n",
    "    public int value;\n",
    "    public int min;\n",
    "    public NodeWithMin (int v, int min) {\n",
    "        value = v;\n",
    "        this.min = min;\n",
    "    }\n",
    "}"
   ]
  },
  {
   "cell_type": "markdown",
   "metadata": {},
   "source": [
    "You can implement this by having each node in the stack keep track of the minimum beneath itself. Then, to find the min, you just look at what the top element thinks is the min.\n",
    "\n",
    "When you push an element onto the stack, the element is given the current minimum. It sets its “local min” to be the min.\n",
    "\n",
    "There’s just one issue with this: if we have a large stack, we waste a lot of space by keeping track of the min for every single element."
   ]
  },
  {
   "cell_type": "code",
   "execution_count": null,
   "metadata": {},
   "outputs": [],
   "source": [
    "public class StackWithMin2 extends Stack<NodeWithMin> {\n",
    "    Stack<Integer> s2;\n",
    "    public StackWithMin2() {\n",
    "        s2 = new Stack<Integer>();\n",
    "    }\n",
    "    \n",
    "    public void push (int value) {\n",
    "        if (value <= min()) {\n",
    "            s2.push(value);\n",
    "        }\n",
    "        super.push(value);\n",
    "    }\n",
    "    \n",
    "    public Integer pop() {\n",
    "        int value = super.pop();\n",
    "        if (value == min()) {\n",
    "            s2.pop();\n",
    "        }\n",
    "        return value;\n",
    "    }\n",
    "    \n",
    "    public int min() {\n",
    "        if (s2.isEmpty()) {\n",
    "            return Integer.MAX_VALUE;\n",
    "        } else {\n",
    "            return s2.peek();\n",
    "        }\n",
    "    }\n",
    "}"
   ]
  },
  {
   "cell_type": "markdown",
   "metadata": {},
   "source": [
    "This is more space efficient. If many elements have the same local min, then we’re keeping a lot of duplicate data. By having the mins kept in a separate stack, we don’t have this duplicate data (although we do use up a lot of extra space because we have a stack node instead of a single int)."
   ]
  }
 ],
 "metadata": {
  "kernelspec": {
   "display_name": "Java",
   "language": "java",
   "name": "java"
  },
  "language_info": {
   "codemirror_mode": "java",
   "file_extension": ".java",
   "mimetype": "text/x-java-source",
   "name": "Java",
   "pygments_lexer": "java",
   "version": "11.0.2+9-LTS"
  }
 },
 "nbformat": 4,
 "nbformat_minor": 2
}
