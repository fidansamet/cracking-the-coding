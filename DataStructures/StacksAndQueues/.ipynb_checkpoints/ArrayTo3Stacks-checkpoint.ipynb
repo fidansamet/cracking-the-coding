{
 "cells": [
  {
   "cell_type": "markdown",
   "metadata": {},
   "source": [
    "Describe how you could use a single array to implement three stacks."
   ]
  },
  {
   "cell_type": "code",
   "execution_count": null,
   "metadata": {},
   "outputs": [],
   "source": [
    "int stackSize = 300;\n",
    "int[] buffer = new int[stackSize * 3];\n",
    "int[] stackPointer = {0, 0, 0};\n",
    "\n",
    "void push (int stackNum, int value) {\n",
    "    int index = stackNum * stackSize + stackPointer[stackNum] + 1;\n",
    "    stackPointer[stackNum]++;\n",
    "    buffer[index] = value;\n",
    "}\n",
    "\n",
    "int pop (int stackNum) {\n",
    "    int index = stackNum * stackSize + stackPointer[stackNum];\n",
    "    stackPointer[stackNum]--;\n",
    "    int value = buffer[index];\n",
    "    buffer[index] = 0;\n",
    "    return value;\n",
    "}\n",
    "\n",
    "int peek (int stackNum) {\n",
    "    int index = stackNum * stackSize + stackPointer[stackNum];\n",
    "    return buffer[index];\n",
    "}\n",
    "\n",
    "boolean isFull (int stackNum) {\n",
    "    return stackPointer[stackNum] == stackSize;\n",
    "}"
   ]
  },
  {
   "cell_type": "markdown",
   "metadata": {},
   "source": [
    "Divide the array in three equal parts and allow the individual stack to grow in that limited space\n",
    "\n",
    "»» for stack 1, we will use [0, n/3)\n",
    "»» for stack 2, we will use [n/3, 2n/3)\n",
    "»» for stack 3, we will use [2n/3, n)\n",
    "\n",
    "This solution is based on the assumption that we do not have any extra information about the usage of space by individual stacks and that we can’t either modify or use any extra space. With these constraints, we are left with no other choice but to divide equally."
   ]
  },
  {
   "cell_type": "code",
   "execution_count": null,
   "metadata": {},
   "outputs": [],
   "source": [
    "int stackSize = 300;\n",
    "int indexUsed = 0;\n",
    "int[] stackPointer = {-1,-1,-1};\n",
    "StackNode[] buffer = new StackNode[stackSize * 3];\n",
    "\n",
    "void push(int stackNum, int value) { \n",
    "    int lastIndex = stackPointer[stackNum];\n",
    "    stackPointer[stackNum] = indexUsed;\n",
    "    indexUsed++;\n",
    "    buffer[stackPointer[stackNum]]=new StackNode(lastIndex,value); \n",
    "} \n",
    "\n",
    "int pop(int stackNum) { \n",
    "    int value = buffer[stackPointer[stackNum]].value; \n",
    "    int lastIndex = stackPointer[stackNum];\n",
    "    stackPointer[stackNum] = buffer[stackPointer[stackNum]].previous; \n",
    "    buffer[lastIndex] = null; \n",
    "    indexUsed--; \n",
    "    return value;\n",
    "}\n",
    "\n",
    "\n",
    "int peek(int stack) { \n",
    "    return buffer[stackPointer[stack]].value;\n",
    "}\n",
    "\n",
    "boolean isEmpty(int stackNum) {\n",
    "    return stackPointer[stackNum] == -1;\n",
    "}\n",
    "\n",
    "class StackNode {\n",
    "    public int previous; \n",
    "    public int value;\n",
    "    \n",
    "    public StackNode(int p, int v){\n",
    "        value = v;\n",
    "        previous = p; \n",
    "    } \n",
    "}"
   ]
  },
  {
   "cell_type": "markdown",
   "metadata": {},
   "source": [
    "In this approach, any stack can grow as long as there is any free space in the array.\n",
    "\n",
    "We sequentially allocate space to the stacks and we link new blocks to the previous block. This means any new element in a stack keeps a pointer to the previous top element of that particular stack. \n",
    "\n",
    "In this implementation, we face a problem of unused space. For example, if a stack deletes some of its elements, the deleted elements may not necessarily appear at the end of the array. So, in that case, we would not be able to use those newly freed spaces. \n",
    "\n",
    "To overcome this deficiency, we can maintain a free list and the whole array space would be given initially to the free list. For every insertion, we would delete an entry from the free list. In case of deletion, we would simply add the index of the free cell to the free list.\n",
    "\n",
    "In this implementation we would be able to have flexibility in terms of variable space utilization but we would need to increase the space complexity."
   ]
  }
 ],
 "metadata": {
  "kernelspec": {
   "display_name": "Java",
   "language": "java",
   "name": "java"
  },
  "language_info": {
   "codemirror_mode": "java",
   "file_extension": ".java",
   "mimetype": "text/x-java-source",
   "name": "Java",
   "pygments_lexer": "java",
   "version": "11.0.2+9-LTS"
  }
 },
 "nbformat": 4,
 "nbformat_minor": 2
}
