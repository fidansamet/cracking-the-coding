{
 "cells": [
  {
   "cell_type": "markdown",
   "metadata": {},
   "source": [
    "Implement a MyQueue class which implements a queue using two stacks."
   ]
  },
  {
   "cell_type": "code",
   "execution_count": null,
   "metadata": {},
   "outputs": [],
   "source": [
    "public class MyQueue<T> { \n",
    "    Stack<T> s1, s2;\n",
    "    \n",
    "    public MyQueue() {\n",
    "        s1 = new Stack<T>();\n",
    "        s2 = new Stack<T>();\n",
    "    }\n",
    "    \n",
    "    public int size() {\n",
    "        return s1.size() + s2.size();\n",
    "    }\n",
    "    \n",
    "    public void add(T value) {\n",
    "        s1.push(value);\n",
    "    }\n",
    "    \n",
    "    public T peek() {\n",
    "        if (!s2.empty()) {\n",
    "            return s2.peek();\n",
    "        }\n",
    "        while (!s1.empty()) {\n",
    "            s2.push(s1.pop());\n",
    "        }\n",
    "        return s2.peek();\n",
    "    }\n",
    "    \n",
    "    public T remove() {\n",
    "        if (!s2.empty()) {\n",
    "            return s2.pop();\n",
    "        }\n",
    "        while (!s1.empty()) {\n",
    "            s2.push(s1.pop());\n",
    "        }\n",
    "        return s2.pop();\n",
    "    }\n",
    "}"
   ]
  },
  {
   "cell_type": "markdown",
   "metadata": {},
   "source": [
    "Since the major difference between a queue and a stack is the order (first-in-first-out vs. last- in-first-out), we know that we need to modify peek() and pop() to go in reverse order. We can use our second stack to reverse the order of the elements (by popping s1 and pushing the elements on to s2). In such an implementation, on each peek() and pop() operation, we would pop everything from s1 onto s2, perform the peek / pop operation, and then push everything back.\n",
    "\n",
    "This will work, but if two pop / peeks are performed back-to-back, we’re needlessly moving elements. We can implement a “lazy” approach where we let the elements sit in s2.\n",
    "\n",
    "s1 will thus be ordered with the newest elements on the top, while s2 will have the oldest elements on the top. We push the new elements onto s1, and peek and pop from s2. When s2 is empty, we’ll transfer all the elements from s1 onto s2, in reverse order."
   ]
  }
 ],
 "metadata": {
  "kernelspec": {
   "display_name": "Java",
   "language": "java",
   "name": "java"
  },
  "language_info": {
   "codemirror_mode": "java",
   "file_extension": ".java",
   "mimetype": "text/x-java-source",
   "name": "Java",
   "pygments_lexer": "java",
   "version": "11.0.2+9-LTS"
  }
 },
 "nbformat": 4,
 "nbformat_minor": 2
}
