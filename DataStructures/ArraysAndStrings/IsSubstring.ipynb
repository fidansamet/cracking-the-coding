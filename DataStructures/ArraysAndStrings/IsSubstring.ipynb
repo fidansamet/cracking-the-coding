{
 "cells": [
  {
   "cell_type": "markdown",
   "metadata": {},
   "source": [
    "Write a method that checks if one word is a substring of another. Given two strings, s1 and s2, write code to check if s2 is a rotation of s1 using only one call to isSubstring (i.e., “waterbottle” is a rotation of “erbottlewat”)."
   ]
  },
  {
   "cell_type": "code",
   "execution_count": 1,
   "metadata": {},
   "outputs": [],
   "source": [
    "public static boolean isRotation (String s1, String s2) {\n",
    "    int len = s1.length();\n",
    "    if (len == s2.length() && len > 0) {   // check that s1 and s2 are equal size and not empty\n",
    "        String s1s1 = s1 + s1;\n",
    "        return isSubstring(s1s1, s2);\n",
    "    }\n",
    "    return false;\n",
    "}"
   ]
  },
  {
   "cell_type": "code",
   "execution_count": 13,
   "metadata": {},
   "outputs": [],
   "source": [
    "public static boolean isSubstring (String s1, String s2) {\n",
    "    char[] str1 = s1.toCharArray();\n",
    "    char[] str2 = s2.toCharArray();\n",
    "    int counter = 0;\n",
    "        for(int i = 0; i < str2.length; i++) {\n",
    "            while(counter < str2.length && i < str1.length && str1[i++] == str2[counter++]) {\n",
    "                if(counter == str2.length) {\n",
    "                    return true;\n",
    "                }\n",
    "            }\n",
    "            counter = 0;\n",
    "        }\n",
    "        return false;\n",
    "}"
   ]
  },
  {
   "cell_type": "markdown",
   "metadata": {},
   "source": [
    "1. Check if length(s1) == length(s2). If not, return false.\n",
    "2. Else, concatenate s1 with itself and see whether s2 is substring of the result.\n",
    "    Use s1's every letters as start points and search for s2 and count the same consecutive letters number. If that count is equal to s2's length then s2 is a substring of s1.\n",
    "    "
   ]
  },
  {
   "cell_type": "code",
   "execution_count": 16,
   "metadata": {},
   "outputs": [
    {
     "data": {
      "text/plain": [
       "true"
      ]
     },
     "execution_count": 16,
     "metadata": {},
     "output_type": "execute_result"
    }
   ],
   "source": [
    "isRotation (\"apple\", \"pleap\");"
   ]
  },
  {
   "cell_type": "code",
   "execution_count": 17,
   "metadata": {},
   "outputs": [
    {
     "data": {
      "text/plain": [
       "false"
      ]
     },
     "execution_count": 17,
     "metadata": {},
     "output_type": "execute_result"
    }
   ],
   "source": [
    "isRotation (\"apple\", \"ppale\");"
   ]
  }
 ],
 "metadata": {
  "kernelspec": {
   "display_name": "Java",
   "language": "java",
   "name": "java"
  },
  "language_info": {
   "codemirror_mode": "java",
   "file_extension": ".java",
   "mimetype": "text/x-java-source",
   "name": "Java",
   "pygments_lexer": "java",
   "version": "11.0.2+9-LTS"
  }
 },
 "nbformat": 4,
 "nbformat_minor": 2
}
