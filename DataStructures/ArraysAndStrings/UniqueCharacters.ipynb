{
 "cells": [
  {
   "cell_type": "markdown",
   "metadata": {},
   "source": [
    "Implement an algorithm to determine if a string has all unique characters."
   ]
  },
  {
   "cell_type": "code",
   "execution_count": 3,
   "metadata": {},
   "outputs": [],
   "source": [
    "public static boolean isUniqueChar (String str) {\n",
    "    boolean[] charSet = new boolean[256];\n",
    "    for (int i = 0; i < str.length(); i++) {\n",
    "        int val = str.charAt(i);\n",
    "        if (charSet[val]) {\n",
    "            return false;\n",
    "        }\n",
    "        charSet[val] = true;\n",
    "    }\n",
    "    return true;\n",
    "}"
   ]
  },
  {
   "cell_type": "markdown",
   "metadata": {},
   "source": [
    "Assume character set is ASCII.\n",
    "Time complexity is O(n).\n",
    "Space complexity is O(n)"
   ]
  },
  {
   "cell_type": "code",
   "execution_count": 4,
   "metadata": {},
   "outputs": [
    {
     "data": {
      "text/plain": [
       "true"
      ]
     },
     "execution_count": 4,
     "metadata": {},
     "output_type": "execute_result"
    }
   ],
   "source": [
    "isUniqueChar(\"world\")"
   ]
  },
  {
   "cell_type": "code",
   "execution_count": 15,
   "metadata": {},
   "outputs": [],
   "source": [
    "public static boolean isUniqueChar2 (String str) {\n",
    "    int checker = 0;\n",
    "    for (int i = 0; i < str.length(); i++) {\n",
    "        int val = str.charAt(i) - 'a';\n",
    "        if ((checker & (1 << val)) > 0) {\n",
    "            return false;        \n",
    "        }\n",
    "        checker = checker | (1 << val);\n",
    "    }\n",
    "    return true;\n",
    "}"
   ]
  },
  {
   "cell_type": "markdown",
   "metadata": {},
   "source": [
    "Reducing space usage by using bit vector.\n",
    "\n",
    "1. Assume that the string is only lower case ‘a’ through ‘z’. This will allow us to use just a single int.\n",
    "2. Looping through all the characters in the string.\n",
    "3. Suppose on i'th iteration you found character 'b'. Calculate its 0 based index.\n",
    "4. Now using left shift operator, we find the value of 2^1 => 2.\n",
    "    (1 << val)  //     1<<1   =>  10(binary)\n",
    "5. Check if the checker[val] == 0 by\n",
    "    (checker & (1 << val))\n",
    "6. Now if 'b' was not encountered, then set the second bit of checker using bitwise OR. This part is called as bit masking.\n",
    "    checker = checker | (1 << val)"
   ]
  },
  {
   "cell_type": "code",
   "execution_count": 16,
   "metadata": {},
   "outputs": [
    {
     "data": {
      "text/plain": [
       "true"
      ]
     },
     "execution_count": 16,
     "metadata": {},
     "output_type": "execute_result"
    }
   ],
   "source": [
    "isUniqueChar2(\"world\")"
   ]
  },
  {
   "cell_type": "markdown",
   "metadata": {},
   "source": [
    "Alternative solutions:\n",
    "\n",
    "1. Check every char of the string with every other char of the string for duplicate occur- rences. This will take O(n^2) time and no space.\n",
    "2. If we are allowed to destroy the input string, we could sort the string in O(n log n) time and then linearly check the string for neighboring characters that are identical. Care- ful, though - many sorting algorithms take up extra space."
   ]
  }
 ],
 "metadata": {
  "kernelspec": {
   "display_name": "Java",
   "language": "java",
   "name": "java"
  },
  "language_info": {
   "codemirror_mode": "java",
   "file_extension": ".java",
   "mimetype": "text/x-java-source",
   "name": "Java",
   "pygments_lexer": "java",
   "version": "11.0.2+9-LTS"
  }
 },
 "nbformat": 4,
 "nbformat_minor": 2
}
