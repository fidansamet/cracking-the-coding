{
 "cells": [
  {
   "cell_type": "markdown",
   "metadata": {},
   "source": [
    "Write a method to decide if two strings are anagrams or not."
   ]
  },
  {
   "cell_type": "code",
   "execution_count": 1,
   "metadata": {},
   "outputs": [],
   "source": [
    "boolean anagram (String a, String b) {\n",
    "    char aArray[] = a.toCharArray();\n",
    "    char bArray[] = b.toCharArray();\n",
    "    Arrays.sort(aArray);\n",
    "    Arrays.sort(bArray);\n",
    "    a = Arrays.toString(aArray);\n",
    "    b = Arrays.toString(bArray);\n",
    "    return a.equals(b);\n",
    "}"
   ]
  },
  {
   "cell_type": "markdown",
   "metadata": {},
   "source": [
    "By sortig strings we can decide if two strings are anagrams or not"
   ]
  },
  {
   "cell_type": "code",
   "execution_count": 3,
   "metadata": {},
   "outputs": [
    {
     "data": {
      "text/plain": [
       "true"
      ]
     },
     "execution_count": 3,
     "metadata": {},
     "output_type": "execute_result"
    }
   ],
   "source": [
    "anagram(\"bored\", \"robed\");"
   ]
  },
  {
   "cell_type": "code",
   "execution_count": 5,
   "metadata": {},
   "outputs": [],
   "source": [
    "public static boolean anagram2 (String a, String b) {\n",
    "    if (a.length() != b.length()) {\n",
    "        return false;\n",
    "    }\n",
    "    int[] letters = new int[256];\n",
    "    int numUniqueChars = 0;\n",
    "    int numCompletedB = 0;\n",
    "    char[] aArray = a.toCharArray();\n",
    "    for (char c : aArray) {\n",
    "        if (letters[c] == 0) {\n",
    "            ++numUniqueChars;\n",
    "            ++letters[c];\n",
    "        }\n",
    "    }\n",
    "    for (int i = 0; i < b.length(); ++i) {\n",
    "        int c = (int) b.charAt(i);\n",
    "        if (letters[c] == 0) {\n",
    "            return false;\n",
    "        }\n",
    "        --letters[c];\n",
    "        if (letters[c] == 0) {\n",
    "            ++numCompletedB;\n",
    "            if (numCompletedB == numUniqueChars) {\n",
    "                return i == b.length() - 1;\n",
    "            }\n",
    "        }\n",
    "    }\n",
    "    return false;\n",
    "}"
   ]
  },
  {
   "cell_type": "markdown",
   "metadata": {},
   "source": [
    "Check if the two strings have identical counts for each unique char using letters array. First initialize char counters in the array for first string's chars. Then decrease char counters in the same array according to second string's chars."
   ]
  },
  {
   "cell_type": "code",
   "execution_count": 9,
   "metadata": {},
   "outputs": [
    {
     "data": {
      "text/plain": [
       "true"
      ]
     },
     "execution_count": 9,
     "metadata": {},
     "output_type": "execute_result"
    }
   ],
   "source": [
    "anagram2(\"night\", \"thing\");"
   ]
  }
 ],
 "metadata": {
  "kernelspec": {
   "display_name": "Java",
   "language": "java",
   "name": "java"
  },
  "language_info": {
   "codemirror_mode": "java",
   "file_extension": ".java",
   "mimetype": "text/x-java-source",
   "name": "Java",
   "pygments_lexer": "java",
   "version": "11.0.2+9-LTS"
  }
 },
 "nbformat": 4,
 "nbformat_minor": 2
}
