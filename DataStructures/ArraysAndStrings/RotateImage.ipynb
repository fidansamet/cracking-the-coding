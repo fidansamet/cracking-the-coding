{
 "cells": [
  {
   "cell_type": "markdown",
   "metadata": {},
   "source": [
    "Given an image represented by an nxn matrix, where each pixel in the image is 4 bytes, write a method to rotate the image by 90 degrees."
   ]
  },
  {
   "cell_type": "code",
   "execution_count": 7,
   "metadata": {},
   "outputs": [],
   "source": [
    "public static int[][] rotate (int[][] matrix, int n) {\n",
    "    for (int layer = 0; layer < n / 2; ++layer) {\n",
    "        int first = layer;\n",
    "        int last = n - 1 - layer;\n",
    "        for (int i = first; i < last; ++i) {\n",
    "            int offset = i - first;\n",
    "            int top = matrix[first][i];\n",
    "            matrix[first][i] = matrix[last - offset][first];    // left -> top\n",
    "            matrix[last - offset][first] = matrix[last][last - offset];    // bottom -> left\n",
    "            matrix[last][last - offset] = matrix[i][last];    // right -> bottom\n",
    "            matrix[i][last] = top;    // top -> right\n",
    "        }\n",
    "    }\n",
    "    return matrix;\n",
    "}"
   ]
  },
  {
   "cell_type": "markdown",
   "metadata": {},
   "source": [
    "The rotation can be performed in layers, where you perform a cyclic swap on the edges on each layer. In the first for loop, we rotate the first layer (outermost edges). We rotate the edges by doing a four-way swap first on the corners, then on the element clockwise from the edges, then on the element three steps away."
   ]
  },
  {
   "cell_type": "code",
   "execution_count": 10,
   "metadata": {},
   "outputs": [
    {
     "name": "stdout",
     "output_type": "stream",
     "text": [
      "0 1 2 3 \n",
      "0 1 2 3 \n",
      "0 1 2 3 \n",
      "0 1 2 3 \n",
      "\n",
      "0 0 0 0 \n",
      "1 1 1 1 \n",
      "2 2 2 2 \n",
      "3 3 3 3 \n"
     ]
    }
   ],
   "source": [
    "int[][] arr = new int[4][4];\n",
    "for (int i = 0; i < arr.length; i++) {\n",
    "    for (int j = 0; j < arr[i].length; j++) {\n",
    "        arr[i][j] = j;\n",
    "        System.out.print(arr[i][j] + \" \");\n",
    "    }\n",
    "    System.out.println(\"\");\n",
    "}\n",
    "arr = rotate (arr, 4);\n",
    "System.out.println(\"\");\n",
    "for (int i = 0; i < arr.length; i++) {\n",
    "    for (int j = 0; j < arr[i].length; j++) {\n",
    "        System.out.print(arr[i][j] + \" \");\n",
    "    }\n",
    "    System.out.println(\"\");\n",
    "}"
   ]
  }
 ],
 "metadata": {
  "kernelspec": {
   "display_name": "Java",
   "language": "java",
   "name": "java"
  },
  "language_info": {
   "codemirror_mode": "java",
   "file_extension": ".java",
   "mimetype": "text/x-java-source",
   "name": "Java",
   "pygments_lexer": "java",
   "version": "11.0.2+9-LTS"
  }
 },
 "nbformat": 4,
 "nbformat_minor": 2
}
