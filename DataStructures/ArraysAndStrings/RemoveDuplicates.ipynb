{
 "cells": [
  {
   "cell_type": "markdown",
   "metadata": {},
   "source": [
    "Design an algorithm and write code to remove the duplicate characters in a string without using any additional buffer."
   ]
  },
  {
   "cell_type": "code",
   "execution_count": 2,
   "metadata": {},
   "outputs": [],
   "source": [
    "public void removeDuplicates (char[] str) {\n",
    "    if (str == null) {\n",
    "        return;\n",
    "    }\n",
    "    int len = str.length;\n",
    "    if (len < 2) {\n",
    "        return;\n",
    "    }\n",
    "    for (int i = 0; i < len; i++) {\n",
    "        for (int j = i + 1; j < len; j++) {\n",
    "            if (str[i] == str[j]) {\n",
    "                str[j] = 0;\n",
    "            }\n",
    "        }\n",
    "    }\n",
    "}"
   ]
  },
  {
   "cell_type": "markdown",
   "metadata": {},
   "source": [
    "For each character check if it is a duplicate character.\n",
    "Make duplicate characters null."
   ]
  },
  {
   "cell_type": "code",
   "execution_count": 5,
   "metadata": {},
   "outputs": [
    {
     "name": "stdout",
     "output_type": "stream",
     "text": [
      "mis\u0000\u0000\u0000\u0000\u0000p\u0000\u0000\n"
     ]
    }
   ],
   "source": [
    "char[] str = new char[] {'m','i','s','s','i','s','s','i','p','p','i'};\n",
    "removeDuplicates(str);\n",
    "System.out.println(String.valueOf(str));"
   ]
  }
 ],
 "metadata": {
  "kernelspec": {
   "display_name": "Java",
   "language": "java",
   "name": "java"
  },
  "language_info": {
   "codemirror_mode": "java",
   "file_extension": ".java",
   "mimetype": "text/x-java-source",
   "name": "Java",
   "pygments_lexer": "java",
   "version": "11.0.2+9-LTS"
  }
 },
 "nbformat": 4,
 "nbformat_minor": 2
}
