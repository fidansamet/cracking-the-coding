{
 "cells": [
  {
   "cell_type": "markdown",
   "metadata": {},
   "source": [
    "Write an algorithm such that if an element in an MxN matrix is 0, its entire row and column is set to 0."
   ]
  },
  {
   "cell_type": "code",
   "execution_count": 1,
   "metadata": {},
   "outputs": [],
   "source": [
    "public static int[][] setZeros (int[][] matrix) {\n",
    "    int[] row = new int[matrix.length];\n",
    "    int[] column = new int[matrix[0].length];\n",
    "    for (int i = 0; i < matrix.length; i++) {\n",
    "        for (int j = 0; j < matrix[0].length; j++) {\n",
    "            if (matrix[i][j] == 0) {\n",
    "                row[i] = 1;\n",
    "                column[j] = 1;\n",
    "            }\n",
    "        }\n",
    "    }\n",
    "    for (int i = 0; i < matrix.length; i++) {\n",
    "        for (int j = 0; j < matrix[0].length; j++) {\n",
    "            if ((row[i] == 1 || column[j] == 1)) {\n",
    "                matrix[i][j] = 0;\n",
    "            }\n",
    "        }\n",
    "    }\n",
    "    return arr;\n",
    "}"
   ]
  },
  {
   "cell_type": "code",
   "execution_count": 2,
   "metadata": {},
   "outputs": [],
   "source": [
    "public static void printMatrix (int[][] arr) {\n",
    "    for (int i = 0; i < arr.length; i++) {\n",
    "        for (int j = 0; j < arr[i].length; j++) {\n",
    "            System.out.print(arr[i][j] + \" \");\n",
    "        }\n",
    "        System.out.println(\"\");\n",
    "    }\n",
    "}"
   ]
  },
  {
   "cell_type": "markdown",
   "metadata": {},
   "source": [
    "Keeping a second matrix which flags the 0 locations will help us to avoid making entire matrix zero. We would then do a second pass through the matrix to set the zeros. This would take O(MN) space.\n",
    "Since we’re going to set the entire row and column to zero we really don't need to track which cell in a row is zero. We only need to know that row 2, for example, has a zero.\n",
    "We keep track in two arrays all the rows with zeros and all the columns with zeros. We then make a second pass of the matrix and set a cell to zero if its row or column is zero."
   ]
  },
  {
   "cell_type": "code",
   "execution_count": 3,
   "metadata": {},
   "outputs": [
    {
     "name": "stdout",
     "output_type": "stream",
     "text": [
      "2 2 2 2 \n",
      "0 2 2 2 \n",
      "2 2 2 2 \n",
      "2 2 2 0 \n",
      "2 2 0 2 \n",
      "\n",
      "0 2 0 0 \n",
      "0 0 0 0 \n",
      "0 2 0 0 \n",
      "0 0 0 0 \n",
      "0 0 0 0 \n"
     ]
    }
   ],
   "source": [
    "int[][] arr = {{2,2,2,2},{0,2,2,2},{2,2,2,2},{2,2,2,0},{2,2,0,2}};\n",
    "printMatrix(arr);\n",
    "arr = setZeros (arr);\n",
    "System.out.println(\"\");\n",
    "printMatrix(arr);"
   ]
  }
 ],
 "metadata": {
  "kernelspec": {
   "display_name": "Java",
   "language": "java",
   "name": "java"
  },
  "language_info": {
   "codemirror_mode": "java",
   "file_extension": ".java",
   "mimetype": "text/x-java-source",
   "name": "Java",
   "pygments_lexer": "java",
   "version": "11.0.2+9-LTS"
  }
 },
 "nbformat": 4,
 "nbformat_minor": 2
}
