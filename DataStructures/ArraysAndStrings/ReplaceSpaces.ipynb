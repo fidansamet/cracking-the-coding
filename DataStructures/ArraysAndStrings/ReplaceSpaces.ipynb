{
 "cells": [
  {
   "cell_type": "markdown",
   "metadata": {},
   "source": [
    "Write a method to replace all spaces in a string with ‘%20’."
   ]
  },
  {
   "cell_type": "code",
   "execution_count": 3,
   "metadata": {},
   "outputs": [],
   "source": [
    "public static void replaceSpaces (char[] str, int length) {\n",
    "    int spaceCount = 0, newLength, i;\n",
    "    for (i = 0; i < length; i++) {\n",
    "        if (str[i] == ' ') {\n",
    "            spaceCount++;\n",
    "        }\n",
    "    }\n",
    "    \n",
    "    newLength = length + spaceCount * 2;\n",
    "    \n",
    "    for (i = length - 1; i >= 0; i--) {\n",
    "        if (str[i] == ' ') {\n",
    "            str[newLength - 1] = '0';\n",
    "            str[newLength - 2] = '2';\n",
    "            str[newLength - 3] = '%';\n",
    "            newLength = newLength - 3;\n",
    "        } else {\n",
    "            str[newLength - 1] = str[i];\n",
    "            newLength = newLength - 1;\n",
    "        }\n",
    "    }\n",
    "}"
   ]
  },
  {
   "cell_type": "markdown",
   "metadata": {},
   "source": [
    "1. Count the number of spaces during the first scan of the string. \n",
    "2. Parse the string again from the end and for each character: \n",
    "    If a space is encountered replace space with “%20”. \n",
    "    Else, store the character as it is in the newly shifted location."
   ]
  },
  {
   "cell_type": "code",
   "execution_count": 6,
   "metadata": {},
   "outputs": [
    {
     "name": "stdout",
     "output_type": "stream",
     "text": [
      "hello%20world\n"
     ]
    }
   ],
   "source": [
    "char[] str = {'h','e','l','l','o',' ','w','o','r','l','d',' ',' '};\n",
    "replaceSpaces (str, 11);\n",
    "System.out.println(str);"
   ]
  }
 ],
 "metadata": {
  "kernelspec": {
   "display_name": "Java",
   "language": "java",
   "name": "java"
  },
  "language_info": {
   "codemirror_mode": "java",
   "file_extension": ".java",
   "mimetype": "text/x-java-source",
   "name": "Java",
   "pygments_lexer": "java",
   "version": "11.0.2+9-LTS"
  }
 },
 "nbformat": 4,
 "nbformat_minor": 2
}
